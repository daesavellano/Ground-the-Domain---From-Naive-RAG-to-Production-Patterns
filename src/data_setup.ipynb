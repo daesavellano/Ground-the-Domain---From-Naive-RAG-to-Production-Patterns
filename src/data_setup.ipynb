{
  "cells": [
    {
      "cell_type": "markdown",
      "metadata": {},
      "source": [
        "# Data Setup and Embedding Generation\n",
        "\n",
        "This notebook handles:\n",
        "1. Loading the Wikipedia passages and questions\n",
        "2. Generating embeddings for passages\n",
        "3. Setting up the Milvus vector database\n",
        "4. Creating the database schema and indexes\n",
        "\n",
        "**Run this notebook first before running naive_rag.ipynb or enhanced_rag.ipynb**\n"
      ]
    },
    {
      "cell_type": "code",
      "execution_count": 1,
      "metadata": {},
      "outputs": [
        {
          "name": "stderr",
          "output_type": "stream",
          "text": [
            "/Library/Frameworks/Python.framework/Versions/3.11/lib/python3.11/site-packages/tqdm/auto.py:21: TqdmWarning: IProgress not found. Please update jupyter and ipywidgets. See https://ipywidgets.readthedocs.io/en/stable/user_install.html\n",
            "  from .autonotebook import tqdm as notebook_tqdm\n"
          ]
        }
      ],
      "source": [
        "# Load all required Libraries\n",
        "import pandas as pd\n",
        "import transformers, torch\n",
        "from transformers import AutoModelForSeq2SeqLM, AutoTokenizer, AutoModelForCausalLM\n",
        "import gc\n",
        "from pymilvus import MilvusClient, FieldSchema, CollectionSchema, DataType\n",
        "from sentence_transformers import SentenceTransformer\n",
        "import numpy as np\n",
        "from tqdm import tqdm"
      ]
    },
    {
      "cell_type": "markdown",
      "metadata": {},
      "source": [
        "# Load Passages and Questions"
      ]
    },
    {
      "cell_type": "code",
      "execution_count": 2,
      "metadata": {},
      "outputs": [
        {
          "name": "stdout",
          "output_type": "stream",
          "text": [
            "Loaded 3200 passages\n",
            "Passage shape: (3200, 1)\n",
            "\n",
            "First few passages:\n"
          ]
        },
        {
          "data": {
            "text/html": [
              "<div>\n",
              "<style scoped>\n",
              "    .dataframe tbody tr th:only-of-type {\n",
              "        vertical-align: middle;\n",
              "    }\n",
              "\n",
              "    .dataframe tbody tr th {\n",
              "        vertical-align: top;\n",
              "    }\n",
              "\n",
              "    .dataframe thead th {\n",
              "        text-align: right;\n",
              "    }\n",
              "</style>\n",
              "<table border=\"1\" class=\"dataframe\">\n",
              "  <thead>\n",
              "    <tr style=\"text-align: right;\">\n",
              "      <th></th>\n",
              "      <th>passage</th>\n",
              "    </tr>\n",
              "    <tr>\n",
              "      <th>id</th>\n",
              "      <th></th>\n",
              "    </tr>\n",
              "  </thead>\n",
              "  <tbody>\n",
              "    <tr>\n",
              "      <th>0</th>\n",
              "      <td>Uruguay (official full name in  ; pron.  , Eas...</td>\n",
              "    </tr>\n",
              "    <tr>\n",
              "      <th>1</th>\n",
              "      <td>It is bordered by Brazil to the north, by Arge...</td>\n",
              "    </tr>\n",
              "    <tr>\n",
              "      <th>2</th>\n",
              "      <td>Montevideo was founded by the Spanish in the e...</td>\n",
              "    </tr>\n",
              "    <tr>\n",
              "      <th>3</th>\n",
              "      <td>The economy is largely based in agriculture (m...</td>\n",
              "    </tr>\n",
              "    <tr>\n",
              "      <th>4</th>\n",
              "      <td>According to Transparency International, Urugu...</td>\n",
              "    </tr>\n",
              "  </tbody>\n",
              "</table>\n",
              "</div>"
            ],
            "text/plain": [
              "                                              passage\n",
              "id                                                   \n",
              "0   Uruguay (official full name in  ; pron.  , Eas...\n",
              "1   It is bordered by Brazil to the north, by Arge...\n",
              "2   Montevideo was founded by the Spanish in the e...\n",
              "3   The economy is largely based in agriculture (m...\n",
              "4   According to Transparency International, Urugu..."
            ]
          },
          "execution_count": 2,
          "metadata": {},
          "output_type": "execute_result"
        }
      ],
      "source": [
        "# Load passages from the dataset\n",
        "passages = pd.read_parquet(\"hf://datasets/rag-datasets/rag-mini-wikipedia/data/passages.parquet/part.0.parquet\")\n",
        "\n",
        "print(f\"Loaded {len(passages)} passages\")\n",
        "print(f\"Passage shape: {passages.shape}\")\n",
        "print(\"\\nFirst few passages:\")\n",
        "passages.head()"
      ]
    },
    {
      "cell_type": "code",
      "execution_count": 3,
      "metadata": {},
      "outputs": [
        {
          "name": "stdout",
          "output_type": "stream",
          "text": [
            "Loaded 918 questions\n",
            "Question shape: (918, 2)\n",
            "\n",
            "First few questions:\n"
          ]
        },
        {
          "data": {
            "text/html": [
              "<div>\n",
              "<style scoped>\n",
              "    .dataframe tbody tr th:only-of-type {\n",
              "        vertical-align: middle;\n",
              "    }\n",
              "\n",
              "    .dataframe tbody tr th {\n",
              "        vertical-align: top;\n",
              "    }\n",
              "\n",
              "    .dataframe thead th {\n",
              "        text-align: right;\n",
              "    }\n",
              "</style>\n",
              "<table border=\"1\" class=\"dataframe\">\n",
              "  <thead>\n",
              "    <tr style=\"text-align: right;\">\n",
              "      <th></th>\n",
              "      <th>question</th>\n",
              "      <th>answer</th>\n",
              "    </tr>\n",
              "    <tr>\n",
              "      <th>id</th>\n",
              "      <th></th>\n",
              "      <th></th>\n",
              "    </tr>\n",
              "  </thead>\n",
              "  <tbody>\n",
              "    <tr>\n",
              "      <th>0</th>\n",
              "      <td>Was Abraham Lincoln the sixteenth President of...</td>\n",
              "      <td>yes</td>\n",
              "    </tr>\n",
              "    <tr>\n",
              "      <th>2</th>\n",
              "      <td>Did Lincoln sign the National Banking Act of 1...</td>\n",
              "      <td>yes</td>\n",
              "    </tr>\n",
              "    <tr>\n",
              "      <th>4</th>\n",
              "      <td>Did his mother die of pneumonia?</td>\n",
              "      <td>no</td>\n",
              "    </tr>\n",
              "    <tr>\n",
              "      <th>6</th>\n",
              "      <td>How many long was Lincoln's formal education?</td>\n",
              "      <td>18 months</td>\n",
              "    </tr>\n",
              "    <tr>\n",
              "      <th>8</th>\n",
              "      <td>When did Lincoln begin his political career?</td>\n",
              "      <td>1832</td>\n",
              "    </tr>\n",
              "  </tbody>\n",
              "</table>\n",
              "</div>"
            ],
            "text/plain": [
              "                                             question     answer\n",
              "id                                                              \n",
              "0   Was Abraham Lincoln the sixteenth President of...        yes\n",
              "2   Did Lincoln sign the National Banking Act of 1...        yes\n",
              "4                    Did his mother die of pneumonia?         no\n",
              "6       How many long was Lincoln's formal education?  18 months\n",
              "8        When did Lincoln begin his political career?       1832"
            ]
          },
          "execution_count": 3,
          "metadata": {},
          "output_type": "execute_result"
        }
      ],
      "source": [
        "# Load questions from the dataset\n",
        "queries = pd.read_parquet(\"hf://datasets/rag-datasets/rag-mini-wikipedia/data/test.parquet/part.0.parquet\")\n",
        "\n",
        "print(f\"Loaded {len(queries)} questions\")\n",
        "print(f\"Question shape: {queries.shape}\")\n",
        "print(\"\\nFirst few questions:\")\n",
        "queries.head()"
      ]
    },
    {
      "cell_type": "code",
      "execution_count": 4,
      "metadata": {},
      "outputs": [
        {
          "name": "stdout",
          "output_type": "stream",
          "text": [
            "Loading sentence transformer model...\n",
            "Model loaded: 384 dimensions\n"
          ]
        }
      ],
      "source": [
        "# Initialize embedding model\n",
        "print(\"Loading sentence transformer model...\")\n",
        "embedding_model = SentenceTransformer(\"all-MiniLM-L6-v2\")\n",
        "print(f\"Model loaded: {embedding_model.get_sentence_embedding_dimension()} dimensions\")"
      ]
    },
    {
      "cell_type": "code",
      "execution_count": 5,
      "metadata": {},
      "outputs": [
        {
          "name": "stdout",
          "output_type": "stream",
          "text": [
            "Generating embeddings for passages...\n"
          ]
        },
        {
          "name": "stderr",
          "output_type": "stream",
          "text": [
            "Processing passages: 100%|██████████| 32/32 [00:49<00:00,  1.54s/it]"
          ]
        },
        {
          "name": "stdout",
          "output_type": "stream",
          "text": [
            "Generated passage embeddings: (3200, 384)\n",
            "Embedding dimension: 384\n"
          ]
        },
        {
          "name": "stderr",
          "output_type": "stream",
          "text": [
            "\n"
          ]
        }
      ],
      "source": [
        "# Generate embeddings for passages\n",
        "print(\"Generating embeddings for passages...\")\n",
        "passage_texts = passages['passage'].tolist()\n",
        "\n",
        "# Generate embeddings in batches to manage memory\n",
        "batch_size = 100\n",
        "passage_embeddings = []\n",
        "\n",
        "for i in tqdm(range(0, len(passage_texts), batch_size), desc=\"Processing passages\"):\n",
        "    batch = passage_texts[i:i+batch_size]\n",
        "    batch_embeddings = embedding_model.encode(batch, show_progress_bar=False)\n",
        "    passage_embeddings.extend(batch_embeddings)\n",
        "    \n",
        "    # Clear memory periodically\n",
        "    if i % 500 == 0:\n",
        "        gc.collect()\n",
        "\n",
        "passage_embeddings = np.array(passage_embeddings)\n",
        "print(f\"Generated passage embeddings: {passage_embeddings.shape}\")\n",
        "print(f\"Embedding dimension: {passage_embeddings.shape[1]}\")\n"
      ]
    },
    {
      "cell_type": "code",
      "execution_count": 6,
      "metadata": {},
      "outputs": [
        {
          "name": "stdout",
          "output_type": "stream",
          "text": [
            "Generating embeddings for queries...\n"
          ]
        },
        {
          "name": "stderr",
          "output_type": "stream",
          "text": [
            "Processing queries: 100%|██████████| 19/19 [00:05<00:00,  3.63it/s]"
          ]
        },
        {
          "name": "stdout",
          "output_type": "stream",
          "text": [
            "Generated query embeddings: (918, 384)\n",
            "Embedding dimension: 384\n"
          ]
        },
        {
          "name": "stderr",
          "output_type": "stream",
          "text": [
            "\n"
          ]
        }
      ],
      "source": [
        "# Generate embeddings for queries\n",
        "print(\"Generating embeddings for queries...\")\n",
        "query_texts = queries['question'].tolist()\n",
        "\n",
        "# Generate embeddings in batches\n",
        "batch_size = 50\n",
        "query_embeddings = []\n",
        "\n",
        "for i in tqdm(range(0, len(query_texts), batch_size), desc=\"Processing queries\"):\n",
        "    batch = query_texts[i:i+batch_size]\n",
        "    batch_embeddings = embedding_model.encode(batch, show_progress_bar=False)\n",
        "    query_embeddings.extend(batch_embeddings)\n",
        "    \n",
        "    # Clear memory periodically\n",
        "    if i % 200 == 0:\n",
        "        gc.collect()\n",
        "\n",
        "query_embeddings = np.array(query_embeddings)\n",
        "print(f\"Generated query embeddings: {query_embeddings.shape}\")\n",
        "print(f\"Embedding dimension: {query_embeddings.shape[1]}\")\n"
      ]
    },
    {
      "cell_type": "code",
      "execution_count": 7,
      "metadata": {},
      "outputs": [
        {
          "name": "stdout",
          "output_type": "stream",
          "text": [
            "Database schema defined:\n",
            "- ID field: id (5)\n",
            "- Passage field: passage (21)\n",
            "- Embedding field: embedding (101, dim=384)\n"
          ]
        }
      ],
      "source": [
        "# Setup Milvus Vector Database\n",
        "# Define database schema\n",
        "id_ = FieldSchema(\n",
        "    name=\"id\",\n",
        "    dtype=DataType.INT64,\n",
        "    is_primary=True,\n",
        "    auto_id=True\n",
        ")\n",
        "\n",
        "passage = FieldSchema(\n",
        "    name=\"passage\",\n",
        "    dtype=DataType.VARCHAR,\n",
        "    max_length=65535\n",
        ")\n",
        "\n",
        "embedding = FieldSchema(\n",
        "    name=\"embedding\",\n",
        "    dtype=DataType.FLOAT_VECTOR,\n",
        "    dim=384  # all-MiniLM-L6-v2 dimension\n",
        ")\n",
        "\n",
        "schema = CollectionSchema(\n",
        "    fields=[id_, passage, embedding],\n",
        "    description=\"RAG Wikipedia Mini Collection Schema\"\n",
        ")\n",
        "\n",
        "print(\"Database schema defined:\")\n",
        "print(f\"- ID field: {id_.name} ({id_.dtype})\")\n",
        "print(f\"- Passage field: {passage.name} ({passage.dtype})\")\n",
        "print(f\"- Embedding field: {embedding.name} ({embedding.dtype}, dim={embedding.dim})\")"
      ]
    },
    {
      "cell_type": "code",
      "execution_count": 8,
      "metadata": {},
      "outputs": [
        {
          "name": "stderr",
          "output_type": "stream",
          "text": [
            "/Library/Frameworks/Python.framework/Versions/3.11/lib/python3.11/site-packages/milvus_lite/__init__.py:15: UserWarning: pkg_resources is deprecated as an API. See https://setuptools.pypa.io/en/latest/pkg_resources.html. The pkg_resources package is slated for removal as early as 2025-11-30. Refrain from using this package or pin to Setuptools<81.\n",
            "  from pkg_resources import DistributionNotFound, get_distribution\n",
            "huggingface/tokenizers: The current process just got forked, after parallelism has already been used. Disabling parallelism to avoid deadlocks...\n",
            "To disable this warning, you can either:\n",
            "\t- Avoid using `tokenizers` before the fork if possible\n",
            "\t- Explicitly set the environment variable TOKENIZERS_PARALLELISM=(true | false)\n"
          ]
        },
        {
          "name": "stdout",
          "output_type": "stream",
          "text": [
            "Collection 'rag_mini' created successfully!\n"
          ]
        }
      ],
      "source": [
        "# Create Milvus client and collection\n",
        "client = MilvusClient(\"../data/processed/rag_wikipedia_mini.db\")\n",
        "\n",
        "# Create the collection\n",
        "client.create_collection(\n",
        "    collection_name=\"rag_mini\",\n",
        "    schema=schema\n",
        ")\n",
        "\n",
        "print(\"Collection 'rag_mini' created successfully!\")"
      ]
    },
    {
      "cell_type": "code",
      "execution_count": 9,
      "metadata": {},
      "outputs": [
        {
          "name": "stdout",
          "output_type": "stream",
          "text": [
            "Preparing data for database insertion...\n",
            "Prepared 3200 records for insertion\n"
          ]
        }
      ],
      "source": [
        "# Prepare data for insertion\n",
        "print(\"Preparing data for database insertion...\")\n",
        "\n",
        "# Create dataframe with required columns\n",
        "passages_df = pd.DataFrame({\n",
        "    'passage': passages['passage'],\n",
        "    'embedding': passage_embeddings.tolist()\n",
        "})\n",
        "\n",
        "# Convert to list of dictionaries\n",
        "rag_data = passages_df.to_dict('records')\n",
        "print(f\"Prepared {len(rag_data)} records for insertion\")\n"
      ]
    },
    {
      "cell_type": "code",
      "execution_count": 10,
      "metadata": {},
      "outputs": [
        {
          "name": "stdout",
          "output_type": "stream",
          "text": [
            "Inserting data into Milvus database...\n"
          ]
        },
        {
          "name": "stderr",
          "output_type": "stream",
          "text": [
            "Inserting data: 100%|██████████| 32/32 [00:01<00:00, 22.31it/s]"
          ]
        },
        {
          "name": "stdout",
          "output_type": "stream",
          "text": [
            "\n",
            "Successfully inserted 3200 records\n"
          ]
        },
        {
          "name": "stderr",
          "output_type": "stream",
          "text": [
            "\n"
          ]
        }
      ],
      "source": [
        "# Insert data into database\n",
        "print(\"Inserting data into Milvus database...\")\n",
        "\n",
        "# Insert in batches to manage memory\n",
        "batch_size = 100\n",
        "total_inserted = 0\n",
        "\n",
        "for i in tqdm(range(0, len(rag_data), batch_size), desc=\"Inserting data\"):\n",
        "    batch = rag_data[i:i+batch_size]\n",
        "    \n",
        "    try:\n",
        "        result = client.insert(collection_name=\"rag_mini\", data=batch)\n",
        "        total_inserted += result['insert_count']\n",
        "        \n",
        "        # Clear memory periodically\n",
        "        if i % 500 == 0:\n",
        "            gc.collect()\n",
        "            \n",
        "    except Exception as e:\n",
        "        print(f\"Error inserting batch {i//batch_size + 1}: {e}\")\n",
        "        continue\n",
        "\n",
        "print(f\"\\nSuccessfully inserted {total_inserted} records\")\n"
      ]
    },
    {
      "cell_type": "code",
      "execution_count": 11,
      "metadata": {},
      "outputs": [
        {
          "name": "stdout",
          "output_type": "stream",
          "text": [
            "Creating index for efficient searching...\n",
            "Index created successfully on embedding field\n",
            "Collection loaded into memory\n"
          ]
        }
      ],
      "source": [
        "# Create index for efficient searching\n",
        "print(\"Creating index for efficient searching...\")\n",
        "\n",
        "index_params = MilvusClient.prepare_index_params()\n",
        "\n",
        "# Add an index on the embedding field\n",
        "index_params.add_index(\n",
        "    field_name=\"embedding\",\n",
        "    index_type=\"IVF_FLAT\",\n",
        "    metric_type=\"COSINE\",\n",
        "    params={\"nlist\": 1024}\n",
        ")\n",
        "\n",
        "# Create the index\n",
        "try:\n",
        "    client.create_index(\n",
        "        collection_name=\"rag_mini\",\n",
        "        index_params=index_params\n",
        "    )\n",
        "    print(\"Index created successfully on embedding field\")\n",
        "except Exception as e:\n",
        "    print(f\"Index creation result: {e}\")\n",
        "\n",
        "# Load collection into memory (required for search)\n",
        "client.load_collection(collection_name=\"rag_mini\")\n",
        "print(\"Collection loaded into memory\")\n"
      ]
    },
    {
      "cell_type": "code",
      "execution_count": 12,
      "metadata": {},
      "outputs": [
        {
          "name": "stdout",
          "output_type": "stream",
          "text": [
            "Saving embeddings for reuse...\n",
            "Query embeddings saved: (918, 384)\n",
            "Passage embeddings saved: (3200, 384)\n",
            "Queries dataframe saved\n",
            "\n",
            "✅ Data setup completed successfully!\n",
            "You can now run naive_rag.ipynb or enhanced_rag.ipynb\n"
          ]
        }
      ],
      "source": [
        "# Save embeddings for reuse\n",
        "print(\"Saving embeddings for reuse...\")\n",
        "\n",
        "# Save query embeddings\n",
        "np.save(\"../data/processed/query_embeddings.npy\", query_embeddings)\n",
        "print(f\"Query embeddings saved: {query_embeddings.shape}\")\n",
        "\n",
        "# Save passage embeddings\n",
        "np.save(\"../data/processed/passage_embeddings.npy\", passage_embeddings)\n",
        "print(f\"Passage embeddings saved: {passage_embeddings.shape}\")\n",
        "\n",
        "# Save queries dataframe\n",
        "queries.to_csv(\"../data/processed/queries.csv\", index=False)\n",
        "print(\"Queries dataframe saved\")\n",
        "\n",
        "print(\"\\n✅ Data setup completed successfully!\")\n",
        "print(\"You can now run naive_rag.ipynb or enhanced_rag.ipynb\")\n"
      ]
    },
    {
      "cell_type": "code",
      "execution_count": null,
      "metadata": {},
      "outputs": [],
      "source": []
    }
  ],
  "metadata": {
    "kernelspec": {
      "display_name": "Python 3",
      "language": "python",
      "name": "python3"
    },
    "language_info": {
      "codemirror_mode": {
        "name": "ipython",
        "version": 3
      },
      "file_extension": ".py",
      "mimetype": "text/x-python",
      "name": "python",
      "nbconvert_exporter": "python",
      "pygments_lexer": "ipython3",
      "version": "3.11.1"
    }
  },
  "nbformat": 4,
  "nbformat_minor": 2
}
